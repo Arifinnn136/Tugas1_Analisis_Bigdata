{
  "nbformat": 4,
  "nbformat_minor": 0,
  "metadata": {
    "colab": {
      "provenance": [],
      "authorship_tag": "ABX9TyM1qfkFiH4Qndw6RsqRmkbb",
      "include_colab_link": true
    },
    "kernelspec": {
      "name": "python3",
      "display_name": "Python 3"
    },
    "language_info": {
      "name": "python"
    }
  },
  "cells": [
    {
      "cell_type": "markdown",
      "metadata": {
        "id": "view-in-github",
        "colab_type": "text"
      },
      "source": [
        "<a href=\"https://colab.research.google.com/github/Arifinnn136/Tugas1_Analisis_Bigdata/blob/main/Modul_1_Machine_Learning.ipynb\" target=\"_parent\"><img src=\"https://colab.research.google.com/assets/colab-badge.svg\" alt=\"Open In Colab\"/></a>"
      ]
    },
    {
      "cell_type": "markdown",
      "source": [
        "# Load Data & Preprocessing"
      ],
      "metadata": {
        "id": "T3v-N-8KGySg"
      }
    },
    {
      "cell_type": "markdown",
      "source": [
        "1.Load data train.csv dari link dataset yang diberikan\n",
        "\n",
        "2.Tampilkan 5 data teratas dan 5 data terbawah\n",
        "\n",
        "3.Tampilkan ringkasan statistik dari data tersebut\n",
        "\n",
        "4.Lakukan proses preprocessing data\n",
        "\n",
        "5.Lakukan splitting antara fitur dan target\n",
        "\n",
        "6.Lakukan splitting data menjadi 80% data train dan 20% data test"
      ],
      "metadata": {
        "id": "17z_3K0sG5Am"
      }
    },
    {
      "cell_type": "code",
      "execution_count": null,
      "metadata": {
        "id": "misNKqv_B2dV"
      },
      "outputs": [],
      "source": [
        "import numpy as np\n",
        "import pandas as pd\n",
        "from sklearn.model_selection import train_test_split\n",
        "from sklearn.metrics import classification_report, accuracy_score\n",
        "from sklearn.preprocessing import LabelEncoder, StandardScaler\n",
        "from sklearn.metrics import classification_report\n",
        "from tensorflow import keras\n",
        "from tensorflow.keras import layers\n",
        "from tensorflow.keras.models import Sequential\n",
        "from tensorflow.keras.layers import Dense\n",
        "\n",
        "\n"
      ]
    },
    {
      "cell_type": "markdown",
      "source": [
        "1. Load data train.csv dari link dataset yang diberikan"
      ],
      "metadata": {
        "id": "t8r9UhbLHTI8"
      }
    },
    {
      "cell_type": "code",
      "source": [
        "data_train = pd.read_csv(\"train.csv\")"
      ],
      "metadata": {
        "id": "roC7HXqcFRP1"
      },
      "execution_count": null,
      "outputs": []
    },
    {
      "cell_type": "code",
      "source": [
        "data_train"
      ],
      "metadata": {
        "id": "v1ODk5SRFA6a"
      },
      "execution_count": null,
      "outputs": []
    },
    {
      "cell_type": "markdown",
      "source": [
        "2. Tampilkan 5 data teratas dan 5 data terbawah"
      ],
      "metadata": {
        "id": "YqhdnBVXKGrG"
      }
    },
    {
      "cell_type": "code",
      "source": [
        "data_train.head()"
      ],
      "metadata": {
        "id": "qQ92WkBqFUAR"
      },
      "execution_count": null,
      "outputs": []
    },
    {
      "cell_type": "code",
      "source": [
        "data_train.tail()"
      ],
      "metadata": {
        "id": "Jh6w2PTFFbP6"
      },
      "execution_count": null,
      "outputs": []
    },
    {
      "cell_type": "markdown",
      "source": [
        "\n",
        "3. Tampilkan ringkasan statistik dari data tersebut"
      ],
      "metadata": {
        "id": "l4DMdsttHqFB"
      }
    },
    {
      "cell_type": "code",
      "source": [
        "data_train.describe()"
      ],
      "metadata": {
        "id": "mxTSniftFi_W"
      },
      "execution_count": null,
      "outputs": []
    },
    {
      "cell_type": "code",
      "source": [
        "4. Lakukan proses preprocessing data"
      ],
      "metadata": {
        "id": "wtNY-DZ_GfWc"
      },
      "execution_count": null,
      "outputs": []
    },
    {
      "cell_type": "code",
      "source": [
        "data_train.dropna(inplace = True)\n",
        "data_train.isnull().sum()"
      ],
      "metadata": {
        "id": "Scv9EyTOGOpP"
      },
      "execution_count": null,
      "outputs": []
    },
    {
      "cell_type": "code",
      "source": [
        "label_encoder = LabelEncoder()\n",
        "data_train['workclass'] = label_encoder.fit_transform(data_train['workclass'])\n",
        "data_train['education'] = label_encoder.fit_transform(data_train['education'])\n",
        "data_train['marital-status'] = label_encoder.fit_transform(data_train['marital-status'])\n",
        "data_train['occupation'] = label_encoder.fit_transform(data_train['occupation'])\n",
        "data_train['relationship'] = label_encoder.fit_transform(data_train['relationship'])\n",
        "data_train['race'] = label_encoder.fit_transform(data_train['race'])\n",
        "data_train['gender'] = label_encoder.fit_transform(data_train['gender'])\n",
        "data_train['native-country'] = label_encoder.fit_transform(data_train['native-country'])"
      ],
      "metadata": {
        "id": "YcMbGghTGZvF"
      },
      "execution_count": null,
      "outputs": []
    },
    {
      "cell_type": "markdown",
      "source": [
        "5. Lakukan splitting antara fitur dan target"
      ],
      "metadata": {
        "id": "2FM3kStZIQdn"
      }
    },
    {
      "cell_type": "code",
      "source": [
        "X = data_train[['age', 'fnlwgt', 'workclass', 'education', 'educational-num', 'marital-status', 'occupation', 'relationship', 'race', 'gender', 'capital-gain', 'capital-loss', 'hours-per-week', 'native-country']]\n",
        "y = data_train['income_>50K']\n"
      ],
      "metadata": {
        "id": "63twDI-yHITx"
      },
      "execution_count": null,
      "outputs": []
    },
    {
      "cell_type": "markdown",
      "source": [
        "Lakukan splitting data menjadi 80% data train dan 20% data test"
      ],
      "metadata": {
        "id": "1DYk1yVAIYy5"
      }
    },
    {
      "cell_type": "code",
      "source": [
        "X_train, X_test, y_train, y_test = train_test_split(X, y, test_size=0.2, random_state=42)"
      ],
      "metadata": {
        "id": "PFdt9iyFHTW5"
      },
      "execution_count": null,
      "outputs": []
    },
    {
      "cell_type": "code",
      "source": [
        "scaler = StandardScaler()\n",
        "X_train = scaler.fit_transform(X_train)\n",
        "X_test = scaler.transform(X_test)"
      ],
      "metadata": {
        "id": "e_KVlAomHclh"
      },
      "execution_count": null,
      "outputs": []
    },
    {
      "cell_type": "markdown",
      "source": [
        "Modelling"
      ],
      "metadata": {
        "id": "duHW0tbyIn9U"
      }
    },
    {
      "cell_type": "markdown",
      "source": [
        "Buat arsitektur model dengan kriteria berikut:\n",
        "\n",
        "1. Gunakan 1 input layer, 1 hidden layer dan 1 output layer\n",
        "\n",
        "2. Gunakan aktifasi sigmoid pada output layer\n",
        "\n",
        "3. Compile model menggunakan loss binary_crossentropy dan metrics accuracy\n",
        "Lakukan proses training minimal 100 epoch"
      ],
      "metadata": {
        "id": "32Tc7BTAIz6t"
      }
    },
    {
      "cell_type": "markdown",
      "source": [
        "Gunakan 1 input layer, 1 hidden layer dan 1 output layer"
      ],
      "metadata": {
        "id": "OPH2ewFyI9-d"
      }
    },
    {
      "cell_type": "markdown",
      "source": [
        "Gunakan aktifasi sigmoid pada output layer"
      ],
      "metadata": {
        "id": "_WW8Cj7MJBJ0"
      }
    },
    {
      "cell_type": "code",
      "source": [
        "model = keras.Sequential([\n",
        "    keras.layers.Input(shape=(X_train.shape[1],)),\n",
        "    keras.layers.Dense(128, activation='relu'),  # Hidden layer dengan 128 neuron\n",
        "    keras.layers.Dense(1, activation='sigmoid')  # Output layer dengan aktivasi sigmoid\n",
        "])"
      ],
      "metadata": {
        "id": "1VHiuIoCJF8V"
      },
      "execution_count": null,
      "outputs": []
    },
    {
      "cell_type": "markdown",
      "source": [
        "3. Compile model menggunakan loss binary_crossentropy dan metrics accuracy"
      ],
      "metadata": {
        "id": "ukulwIiAJMsR"
      }
    },
    {
      "cell_type": "code",
      "source": [
        "# Compile the model\n",
        "model.compile(optimizer='adam', loss='binary_crossentropy', metrics=['accuracy'])"
      ],
      "metadata": {
        "id": "A6sPAj0qJPS7"
      },
      "execution_count": null,
      "outputs": []
    },
    {
      "cell_type": "markdown",
      "source": [
        "4. Lakukan proses training minimal 100 epoch"
      ],
      "metadata": {
        "id": "jkLChI67JUDF"
      }
    },
    {
      "cell_type": "code",
      "source": [
        "# Train the model\n",
        "model.fit(X_train, y_train, epochs=100, batch_size=32, validation_data=(X_test, y_test))"
      ],
      "metadata": {
        "id": "YHv0e76nJYTx"
      },
      "execution_count": null,
      "outputs": []
    },
    {
      "cell_type": "markdown",
      "source": [
        "# Evaluasi"
      ],
      "metadata": {
        "id": "gPNG6SopJZqb"
      }
    },
    {
      "cell_type": "markdown",
      "source": [
        "1. Lakukan evaluate model\n",
        "2. Buatlah report klasifikasi beserta dengan keterangan labelnya.\n",
        "3. Dapat akurasi minimal 85%\n",
        "4. Lakukan ujicoba predict dengan data test.csv yang ada di link dataset yang diberikan"
      ],
      "metadata": {
        "id": "qz8RsXnzJcmA"
      }
    },
    {
      "cell_type": "code",
      "source": [
        "# Evaluate the model\n",
        "loss, accuracy = model.evaluate(X_test, y_test, verbose=0)\n",
        "print(f'Test loss: {loss:.4f}, Test accuracy: {accuracy:.4f}')"
      ],
      "metadata": {
        "id": "9kyDMyjeJgFs"
      },
      "execution_count": null,
      "outputs": []
    },
    {
      "cell_type": "code",
      "source": [
        "y_pred = model.predict(X_test)\n",
        "y_pred = (y_pred > 0.5).astype(int)"
      ],
      "metadata": {
        "id": "MokX5YmsJkB1"
      },
      "execution_count": null,
      "outputs": []
    },
    {
      "cell_type": "code",
      "source": [
        "# laporan klasifikasi\n",
        "classification_rep = classification_report(y_test, y_pred)"
      ],
      "metadata": {
        "id": "gAX7C9PMJnfz"
      },
      "execution_count": null,
      "outputs": []
    },
    {
      "cell_type": "code",
      "source": [
        "print(\"Laporan Klasifikasi:\")\n",
        "print(classification_rep)"
      ],
      "metadata": {
        "id": "i9VEYqC1JoWb"
      },
      "execution_count": null,
      "outputs": []
    },
    {
      "cell_type": "code",
      "source": [
        "print(\"Akurasi:\", accuracy_score(y_test, y_pred)*100)"
      ],
      "metadata": {
        "id": "uY1AX2VTJrH5"
      },
      "execution_count": null,
      "outputs": []
    },
    {
      "cell_type": "code",
      "source": [
        "data_test = pd.read_csv('test.csv')"
      ],
      "metadata": {
        "id": "7cTsVxZCJt7m"
      },
      "execution_count": null,
      "outputs": []
    },
    {
      "cell_type": "code",
      "source": [
        "data_test"
      ],
      "metadata": {
        "id": "HrHjUJYzJvnU"
      },
      "execution_count": null,
      "outputs": []
    },
    {
      "cell_type": "code",
      "source": [
        "data_test.describe()"
      ],
      "metadata": {
        "id": "MNZq5XAbJxlS"
      },
      "execution_count": null,
      "outputs": []
    },
    {
      "cell_type": "code",
      "source": [
        "# Lakukan preprocessing data test sesuai dengan yang telah dilakukan pada data train\n",
        "label_encoder = LabelEncoder()\n",
        "data_test['workclass'] = label_encoder.fit_transform(data_test['workclass'])\n",
        "data_test['education'] = label_encoder.fit_transform(data_test['education'])\n",
        "data_test['marital-status'] = label_encoder.fit_transform(data_test['marital-status'])\n",
        "data_test['occupation'] = label_encoder.fit_transform(data_test['occupation'])\n",
        "data_test['relationship'] = label_encoder.fit_transform(data_test['relationship'])\n",
        "data_test['race'] = label_encoder.fit_transform(data_test['race'])\n",
        "data_test['gender'] = label_encoder.fit_transform(data_test['gender'])\n",
        "data_test['native-country'] = label_encoder.fit_transform(data_test['native-country'])"
      ],
      "metadata": {
        "id": "IlLhtq7UJzI7"
      },
      "execution_count": null,
      "outputs": []
    },
    {
      "cell_type": "code",
      "source": [
        "# Lakukan prediksi dengan model\n",
        "X_test_data = scaler.transform(data_test)  # Normalisasi data test\n",
        "predictions = model.predict(X_test_data)"
      ],
      "metadata": {
        "id": "fnL2ppUFJ17q"
      },
      "execution_count": null,
      "outputs": []
    }
  ]
}